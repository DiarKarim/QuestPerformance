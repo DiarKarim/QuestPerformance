{
 "cells": [
  {
   "cell_type": "markdown",
   "metadata": {},
   "source": [
    "## Load Libraries"
   ]
  },
  {
   "cell_type": "code",
   "execution_count": 2,
   "metadata": {},
   "outputs": [],
   "source": [
    "import numpy as np\n",
    "import matplotlib.pyplot as plt\n",
    "import pandas as pd\n",
    "import os"
   ]
  },
  {
   "cell_type": "markdown",
   "metadata": {},
   "source": [
    "## Load All Data"
   ]
  },
  {
   "cell_type": "code",
   "execution_count": 3,
   "metadata": {},
   "outputs": [],
   "source": [
    "# path = \"C:/Users/galeaj-admin/AppData/LocalLow/DefaultCompany/QuestHandTrackingTest/ptx_07_joe/\"\n",
    "# path = \"C:/Users/galeaj-admin/Downloads/QuestTrackingAccuracy-main/QuestTrackingAccuracy-main/ptx_999_diar/\"\n",
    "path = \"C:/Users/ActionLab/AppData/LocalLow/DefaultCompany/QuestHandTrackingTest/diar_001/\"\n",
    "# fileName = \"pilot_999_12_Target_row_A1_Trial_58_.json\"\n",
    "\n",
    "# df = pd.read_json(path + fileName)\n",
    "df = None\n",
    "\n",
    "i = 0\n",
    "for filename in os.listdir(path):\n",
    "    if filename.endswith(\".json\"):  # or filename.endswith(\".py\") # print(os.path.join(directory, filename))\n",
    "        tmpDF = pd.read_json(path + filename)    \n",
    "        \n",
    "        tmpDF.insert(0, \"Trial\", i , True)\n",
    "        \n",
    "        if df is None:\n",
    "            df = tmpDF\n",
    "        else:\n",
    "            df = pd.concat((df, tmpDF)) \n",
    "        \n",
    "        i = i+1\n",
    "        continue\n",
    "    else:\n",
    "        continue"
   ]
  },
  {
   "cell_type": "code",
   "execution_count": 4,
   "metadata": {},
   "outputs": [
    {
     "data": {
      "text/html": [
       "<div>\n",
       "<style scoped>\n",
       "    .dataframe tbody tr th:only-of-type {\n",
       "        vertical-align: middle;\n",
       "    }\n",
       "\n",
       "    .dataframe tbody tr th {\n",
       "        vertical-align: top;\n",
       "    }\n",
       "\n",
       "    .dataframe thead th {\n",
       "        text-align: right;\n",
       "    }\n",
       "</style>\n",
       "<table border=\"1\" class=\"dataframe\">\n",
       "  <thead>\n",
       "    <tr style=\"text-align: right;\">\n",
       "      <th></th>\n",
       "      <th>Trial</th>\n",
       "      <th>frameNum</th>\n",
       "      <th>gameObjectName</th>\n",
       "      <th>xPos</th>\n",
       "      <th>yPos</th>\n",
       "      <th>zPos</th>\n",
       "      <th>xRot</th>\n",
       "      <th>yRot</th>\n",
       "      <th>zRot</th>\n",
       "      <th>targetID</th>\n",
       "      <th>xTPos</th>\n",
       "      <th>yTPos</th>\n",
       "      <th>zTPos</th>\n",
       "      <th>time</th>\n",
       "    </tr>\n",
       "  </thead>\n",
       "  <tbody>\n",
       "    <tr>\n",
       "      <th>0</th>\n",
       "      <td>0</td>\n",
       "      <td>0</td>\n",
       "      <td>realFingerTip</td>\n",
       "      <td>-0.865736</td>\n",
       "      <td>0.374911</td>\n",
       "      <td>0.136675</td>\n",
       "      <td>0.000000</td>\n",
       "      <td>0.000000</td>\n",
       "      <td>0.000000</td>\n",
       "      <td>row_C4</td>\n",
       "      <td>-0.784844</td>\n",
       "      <td>0.300414</td>\n",
       "      <td>0.455248</td>\n",
       "      <td>53.215150</td>\n",
       "    </tr>\n",
       "    <tr>\n",
       "      <th>1</th>\n",
       "      <td>0</td>\n",
       "      <td>0</td>\n",
       "      <td>b_r_index_null</td>\n",
       "      <td>-0.834294</td>\n",
       "      <td>0.402523</td>\n",
       "      <td>0.136769</td>\n",
       "      <td>339.537628</td>\n",
       "      <td>254.367065</td>\n",
       "      <td>330.521000</td>\n",
       "      <td>row_C4</td>\n",
       "      <td>-0.784844</td>\n",
       "      <td>0.300414</td>\n",
       "      <td>0.455248</td>\n",
       "      <td>53.215150</td>\n",
       "    </tr>\n",
       "    <tr>\n",
       "      <th>2</th>\n",
       "      <td>0</td>\n",
       "      <td>0</td>\n",
       "      <td>r_index_fingernail_marker</td>\n",
       "      <td>-0.834555</td>\n",
       "      <td>0.405681</td>\n",
       "      <td>0.143301</td>\n",
       "      <td>339.537628</td>\n",
       "      <td>254.367065</td>\n",
       "      <td>330.521000</td>\n",
       "      <td>row_C4</td>\n",
       "      <td>-0.784844</td>\n",
       "      <td>0.300414</td>\n",
       "      <td>0.455248</td>\n",
       "      <td>53.215150</td>\n",
       "    </tr>\n",
       "    <tr>\n",
       "      <th>3</th>\n",
       "      <td>0</td>\n",
       "      <td>0</td>\n",
       "      <td>r_index_finger_tip_marker</td>\n",
       "      <td>-0.838177</td>\n",
       "      <td>0.398286</td>\n",
       "      <td>0.145951</td>\n",
       "      <td>339.537628</td>\n",
       "      <td>254.367065</td>\n",
       "      <td>330.521000</td>\n",
       "      <td>row_C4</td>\n",
       "      <td>-0.784844</td>\n",
       "      <td>0.300414</td>\n",
       "      <td>0.455248</td>\n",
       "      <td>53.215150</td>\n",
       "    </tr>\n",
       "    <tr>\n",
       "      <th>4</th>\n",
       "      <td>0</td>\n",
       "      <td>0</td>\n",
       "      <td>r_index_finger_pad_marker</td>\n",
       "      <td>-0.836593</td>\n",
       "      <td>0.396164</td>\n",
       "      <td>0.136510</td>\n",
       "      <td>339.537628</td>\n",
       "      <td>254.367065</td>\n",
       "      <td>330.521000</td>\n",
       "      <td>row_C4</td>\n",
       "      <td>-0.784844</td>\n",
       "      <td>0.300414</td>\n",
       "      <td>0.455248</td>\n",
       "      <td>53.215150</td>\n",
       "    </tr>\n",
       "    <tr>\n",
       "      <th>...</th>\n",
       "      <td>...</td>\n",
       "      <td>...</td>\n",
       "      <td>...</td>\n",
       "      <td>...</td>\n",
       "      <td>...</td>\n",
       "      <td>...</td>\n",
       "      <td>...</td>\n",
       "      <td>...</td>\n",
       "      <td>...</td>\n",
       "      <td>...</td>\n",
       "      <td>...</td>\n",
       "      <td>...</td>\n",
       "      <td>...</td>\n",
       "      <td>...</td>\n",
       "    </tr>\n",
       "    <tr>\n",
       "      <th>995</th>\n",
       "      <td>17</td>\n",
       "      <td>83</td>\n",
       "      <td>b_r_index3</td>\n",
       "      <td>-0.960043</td>\n",
       "      <td>0.300088</td>\n",
       "      <td>0.237725</td>\n",
       "      <td>347.627800</td>\n",
       "      <td>253.282364</td>\n",
       "      <td>331.561900</td>\n",
       "      <td>row_A3</td>\n",
       "      <td>-0.983980</td>\n",
       "      <td>0.298208</td>\n",
       "      <td>0.255406</td>\n",
       "      <td>1.151825</td>\n",
       "    </tr>\n",
       "    <tr>\n",
       "      <th>996</th>\n",
       "      <td>17</td>\n",
       "      <td>83</td>\n",
       "      <td>b_r_index2</td>\n",
       "      <td>-0.950314</td>\n",
       "      <td>0.311919</td>\n",
       "      <td>0.218856</td>\n",
       "      <td>347.793800</td>\n",
       "      <td>249.649246</td>\n",
       "      <td>330.126300</td>\n",
       "      <td>row_A3</td>\n",
       "      <td>-0.983980</td>\n",
       "      <td>0.298208</td>\n",
       "      <td>0.255406</td>\n",
       "      <td>1.151825</td>\n",
       "    </tr>\n",
       "    <tr>\n",
       "      <th>997</th>\n",
       "      <td>17</td>\n",
       "      <td>83</td>\n",
       "      <td>b_r_index1</td>\n",
       "      <td>-0.935850</td>\n",
       "      <td>0.316095</td>\n",
       "      <td>0.184045</td>\n",
       "      <td>350.597717</td>\n",
       "      <td>248.487335</td>\n",
       "      <td>353.593475</td>\n",
       "      <td>row_A3</td>\n",
       "      <td>-0.983980</td>\n",
       "      <td>0.298208</td>\n",
       "      <td>0.255406</td>\n",
       "      <td>1.151825</td>\n",
       "    </tr>\n",
       "    <tr>\n",
       "      <th>998</th>\n",
       "      <td>17</td>\n",
       "      <td>83</td>\n",
       "      <td>b_r_wrist</td>\n",
       "      <td>-0.883031</td>\n",
       "      <td>0.312745</td>\n",
       "      <td>0.100245</td>\n",
       "      <td>346.939484</td>\n",
       "      <td>251.440552</td>\n",
       "      <td>3.153383</td>\n",
       "      <td>row_A3</td>\n",
       "      <td>-0.983980</td>\n",
       "      <td>0.298208</td>\n",
       "      <td>0.255406</td>\n",
       "      <td>1.151825</td>\n",
       "    </tr>\n",
       "    <tr>\n",
       "      <th>999</th>\n",
       "      <td>17</td>\n",
       "      <td>83</td>\n",
       "      <td>CenterEyeAnchor</td>\n",
       "      <td>-0.796384</td>\n",
       "      <td>0.962645</td>\n",
       "      <td>0.004085</td>\n",
       "      <td>13.405854</td>\n",
       "      <td>0.105090</td>\n",
       "      <td>1.929215</td>\n",
       "      <td>row_A3</td>\n",
       "      <td>-0.983980</td>\n",
       "      <td>0.298208</td>\n",
       "      <td>0.255406</td>\n",
       "      <td>1.151825</td>\n",
       "    </tr>\n",
       "  </tbody>\n",
       "</table>\n",
       "<p>22090 rows × 14 columns</p>\n",
       "</div>"
      ],
      "text/plain": [
       "     Trial  frameNum             gameObjectName      xPos      yPos      zPos  \\\n",
       "0        0         0              realFingerTip -0.865736  0.374911  0.136675   \n",
       "1        0         0             b_r_index_null -0.834294  0.402523  0.136769   \n",
       "2        0         0  r_index_fingernail_marker -0.834555  0.405681  0.143301   \n",
       "3        0         0  r_index_finger_tip_marker -0.838177  0.398286  0.145951   \n",
       "4        0         0  r_index_finger_pad_marker -0.836593  0.396164  0.136510   \n",
       "..     ...       ...                        ...       ...       ...       ...   \n",
       "995     17        83                 b_r_index3 -0.960043  0.300088  0.237725   \n",
       "996     17        83                 b_r_index2 -0.950314  0.311919  0.218856   \n",
       "997     17        83                 b_r_index1 -0.935850  0.316095  0.184045   \n",
       "998     17        83                  b_r_wrist -0.883031  0.312745  0.100245   \n",
       "999     17        83            CenterEyeAnchor -0.796384  0.962645  0.004085   \n",
       "\n",
       "           xRot        yRot        zRot targetID     xTPos     yTPos  \\\n",
       "0      0.000000    0.000000    0.000000   row_C4 -0.784844  0.300414   \n",
       "1    339.537628  254.367065  330.521000   row_C4 -0.784844  0.300414   \n",
       "2    339.537628  254.367065  330.521000   row_C4 -0.784844  0.300414   \n",
       "3    339.537628  254.367065  330.521000   row_C4 -0.784844  0.300414   \n",
       "4    339.537628  254.367065  330.521000   row_C4 -0.784844  0.300414   \n",
       "..          ...         ...         ...      ...       ...       ...   \n",
       "995  347.627800  253.282364  331.561900   row_A3 -0.983980  0.298208   \n",
       "996  347.793800  249.649246  330.126300   row_A3 -0.983980  0.298208   \n",
       "997  350.597717  248.487335  353.593475   row_A3 -0.983980  0.298208   \n",
       "998  346.939484  251.440552    3.153383   row_A3 -0.983980  0.298208   \n",
       "999   13.405854    0.105090    1.929215   row_A3 -0.983980  0.298208   \n",
       "\n",
       "        zTPos       time  \n",
       "0    0.455248  53.215150  \n",
       "1    0.455248  53.215150  \n",
       "2    0.455248  53.215150  \n",
       "3    0.455248  53.215150  \n",
       "4    0.455248  53.215150  \n",
       "..        ...        ...  \n",
       "995  0.255406   1.151825  \n",
       "996  0.255406   1.151825  \n",
       "997  0.255406   1.151825  \n",
       "998  0.255406   1.151825  \n",
       "999  0.255406   1.151825  \n",
       "\n",
       "[22090 rows x 14 columns]"
      ]
     },
     "execution_count": 4,
     "metadata": {},
     "output_type": "execute_result"
    }
   ],
   "source": [
    "df"
   ]
  },
  {
   "cell_type": "markdown",
   "metadata": {},
   "source": [
    "## Plot data"
   ]
  },
  {
   "cell_type": "markdown",
   "metadata": {},
   "source": [
    "## Changes to be made:\n",
    "Currently xPos... is a long arrange, which holds all the position data from the one trial i.e. not distinguishing the trials.\n",
    "\n",
    "Make xPos etc. into a 2D array which should hold pos data for each trial. \n"
   ]
  },
  {
   "cell_type": "code",
   "execution_count": 5,
   "metadata": {
    "scrolled": false
   },
   "outputs": [
    {
     "data": {
      "text/plain": [
       "Text(0, 0.5, 'Z-axis')"
      ]
     },
     "execution_count": 5,
     "metadata": {},
     "output_type": "execute_result"
    },
    {
     "data": {
      "image/png": "[encoded data removed]",
      "text/plain": [
       "<Figure size 432x288 with 1 Axes>"
      ]
     },
     "metadata": {
      "needs_background": "light"
     },
     "output_type": "display_data"
    }
   ],
   "source": [
    "# xPos = df.xPos[df.gameObjectName[df.gameObjectName == 'b_r_index_null']]\n",
    "# zPos = df.zPos[df.gameObjectName[df.gameObjectName == 'b_r_index_null']]\n",
    "\n",
    "maskVR = (df[\"gameObjectName\"]==\"b_r_index_null\") & (df['targetID'] == 'row_A1')  #& (df['Trial'] == 0)\n",
    "maskMc = (df[\"gameObjectName\"]==\"realFingerTip\")  &  (df['targetID'] == 'row_A1')  #& (df['Trial'] == 0)\n",
    "\n",
    "xPos =  df.loc[maskVR , 'xPos']\n",
    "zPos =  df.loc[maskVR, 'zPos']\n",
    "xPosM = df.loc[maskMc, 'xPos']\n",
    "zPosM = df.loc[maskMc, 'zPos']\n",
    "\n",
    "plt.plot(xPos,zPos,'r')\n",
    "plt.plot(xPosM,zPosM,'g')\n",
    "plt.title('Reach Trajectory in X-Z axis')\n",
    "plt.xlabel('X-axis')\n",
    "plt.ylabel('Z-axis')"
   ]
  },
  {
   "cell_type": "code",
   "execution_count": 16,
   "metadata": {},
   "outputs": [
    {
     "name": "stdout",
     "output_type": "stream",
     "text": [
      "Orig:  113  New:  114\n",
      "<class 'list'>\n",
      "xpos len:  113  xPos2:  114\n"
     ]
    }
   ],
   "source": [
    "x = sxPosM\n",
    "type(x)\n",
    "\n",
    "x2 = np.insert(x, 0, 0)\n",
    "\n",
    "print('Orig: ', len(x), ' New: ', len(x2))\n",
    "\n",
    "print(type(xPos.tolist()))\n",
    "xPos2 = np.insert(xPos.tolist(),0,0)\n",
    "\n",
    "print('xpos len: ', len(xPos), ' xPos2: ', len(xPos2))"
   ]
  },
  {
   "cell_type": "code",
   "execution_count": 17,
   "metadata": {},
   "outputs": [
    {
     "name": "stdout",
     "output_type": "stream",
     "text": [
      "Original number of values (113,)\n",
      "Unique quest (113,)\n",
      "Unique marker (113,)\n"
     ]
    },
    {
     "data": {
      "text/plain": [
       "<matplotlib.legend.Legend at 0x174c627b520>"
      ]
     },
     "execution_count": 17,
     "metadata": {},
     "output_type": "execute_result"
    },
    {
     "data": {
      "image/png": "[encoded data removed]",
      "text/plain": [
       "<Figure size 432x288 with 1 Axes>"
      ]
     },
     "metadata": {
      "needs_background": "light"
     },
     "output_type": "display_data"
    }
   ],
   "source": [
    "from scipy.signal import savgol_filter\n",
    "\n",
    "print(\"Original number of values\", np.shape(xPos))\n",
    "print(\"Unique quest\", np.shape(np.unique(xPos)))\n",
    "print(\"Unique marker\", np.shape(np.unique(xPosM)))\n",
    "\n",
    "sxPos = savgol_filter(xPos, 51, 3)\n",
    "sxPosM = savgol_filter(xPosM, 51, 3)\n",
    "\n",
    "# sxPos2 = np.insert(sxPos,0,0)\n",
    "# sxPosM2 = np.insert(sxPosM,0,0)\n",
    "# xPos2 = np.insert(xPos.tolist(),0,0)\n",
    "# xPosM2 = np.insert(xPos.tolist(),0,0)\n",
    "\n",
    "plt.plot(np.gradient(sxPos2),'r')\n",
    "plt.plot(np.gradient(sxPosM2),'g')\n",
    "plt.plot(np.gradient(xPos2),'c')\n",
    "plt.plot(np.gradient(xPosM2),'m')\n",
    "\n",
    "plt.title(\"Smoothed and Raw Velocity\")\n",
    "plt.legend([\"Smoothed Quest_X\",\"Smoothed Marker_X\",\"Raw Quest_X\",\"Raw Marker_X\"])\n",
    "\n",
    "# plt.figure()\n",
    "# t = np.diff(time)\n",
    "# # plt.plot(t[40:],'b')\n",
    "# plt.plot(time,'b')\n",
    "# print('Time length: ', np.shape(time))"
   ]
  },
  {
   "cell_type": "code",
   "execution_count": null,
   "metadata": {},
   "outputs": [],
   "source": [
    "df['targetID'].unique()"
   ]
  },
  {
   "cell_type": "code",
   "execution_count": null,
   "metadata": {},
   "outputs": [],
   "source": [
    "np.shape(xPos)"
   ]
  },
  {
   "cell_type": "markdown",
   "metadata": {},
   "source": [
    "### Average Curve"
   ]
  },
  {
   "cell_type": "code",
   "execution_count": null,
   "metadata": {},
   "outputs": [],
   "source": [
    "# plt.figure()\n",
    "x = np.arange(0,len(xPos))\n",
    "xVR_mean = np.mean(xPos, axis=0)  \n",
    "xVR_SE = np.round(np.std(xPos, axis=0)/np.sqrt(len(xPos)),4)\n",
    "plt.errorbar(x, xVR_mean, xVR_SE, marker='o',ls='''''',mfc='k',mec='k', ms=7, mew=2,mfcalt='k')\n",
    "\n",
    "# ydata = np.mean(yCurve_13, axis=0)\n",
    "# # yerr = np.std(yCurves, axis=0)/np.sqrt(curveArrShape[0])\n",
    "# yerr = np.std(yCurve_13, axis=0)\n",
    "\n",
    "# plt.plot(xLine_13cm, ydata)\n",
    "# plt.fill_between(xLine_13cm, ydata-yerr, ydata+yerr, alpha=0.5)\n",
    "# # plt.xticks(x,proprioceptiveVals)\n",
    "# plt.xlabel(\"\\n <-Closer Virtual Hand Position ->Further / m \\n\")\n",
    "# plt.ylabel(\"\\n P(Real Hand Closer) \\n\")\n",
    "# plt.ylim([-0.01, 1.01])\n",
    "\n",
    "# plt.tight_layout()\n",
    "# plt.savefig('Psych Curve for 13 cm Target.png', dpi = 600)"
   ]
  },
  {
   "cell_type": "code",
   "execution_count": null,
   "metadata": {},
   "outputs": [],
   "source": [
    "np.shape(xPosM)\n",
    "type(xPos)"
   ]
  },
  {
   "cell_type": "code",
   "execution_count": null,
   "metadata": {},
   "outputs": [],
   "source": [
    "import math\n",
    "import sys\n",
    "\n",
    "import numpy as np\n",
    "import numpy.linalg\n",
    "import pylab as py\n",
    "\n",
    "def sg_filter(x, m, k=0):\n",
    "    \"\"\"\n",
    "    x = Vector of sample times\n",
    "    m = Order of the smoothing polynomial\n",
    "    k = Which derivative\n",
    "    \"\"\"\n",
    "    mid = len(x) / 2        \n",
    "    a = x - x[mid]\n",
    "    expa = lambda x: map(lambda i: i**x, a)    \n",
    "    A = np.r_[map(expa, range(0,m+1))].transpose()\n",
    "    Ai = np.linalg.pinv(A)\n",
    "\n",
    "    return Ai[k]\n",
    "\n",
    "def smooth(x, y, size=5, order=2, deriv=0):\n",
    "    \n",
    "#     if deriv > order:\n",
    "#         raise Exception, \"deriv must be <= order\"\n",
    "\n",
    "    n = len(x)\n",
    "    m = size\n",
    "\n",
    "    result = np.zeros(n)\n",
    "\n",
    "    for i in xrange(m, n-m):\n",
    "        start, end = i - m, i + m + 1\n",
    "        f = sg_filter(x[start:end], order, deriv)\n",
    "        result[i] = np.dot(f, y[start:end])\n",
    "\n",
    "    if deriv > 1:\n",
    "        result *= math.factorial(deriv)\n",
    "\n",
    "    return result"
   ]
  },
  {
   "cell_type": "code",
   "execution_count": null,
   "metadata": {},
   "outputs": [],
   "source": []
  },
  {
   "cell_type": "code",
   "execution_count": null,
   "metadata": {},
   "outputs": [],
   "source": []
  },
  {
   "cell_type": "code",
   "execution_count": null,
   "metadata": {},
   "outputs": [],
   "source": []
  }
 ],
 "metadata": {
  "kernelspec": {
   "display_name": "Python 3",
   "language": "python",
   "name": "python3"
  },
  "language_info": {
   "codemirror_mode": {
    "name": "ipython",
    "version": 3
   },
   "file_extension": ".py",
   "mimetype": "text/x-python",
   "name": "python",
   "nbconvert_exporter": "python",
   "pygments_lexer": "ipython3",
   "version": "3.8.8"
  }
 },
 "nbformat": 4,
 "nbformat_minor": 2
}

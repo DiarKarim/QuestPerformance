{
 "cells": [
  {
   "cell_type": "markdown",
   "metadata": {},
   "source": [
    "## Load Libraries"
   ]
  },
  {
   "cell_type": "code",
   "execution_count": 1,
   "metadata": {},
   "outputs": [],
   "source": [
    "import numpy as np\n",
    "import matplotlib.pyplot as plt\n",
    "import pandas as pd\n",
    "import os\n",
    "import time as tm"
   ]
  },
  {
   "cell_type": "markdown",
   "metadata": {},
   "source": [
    "## Load Data"
   ]
  },
  {
   "cell_type": "code",
   "execution_count": 3,
   "metadata": {},
   "outputs": [],
   "source": [
    "# path = \"C:/Users/galeaj-admin/AppData/LocalLow/DefaultCompany/QuestHandTrackingTest/ptx_07_joe/\"\n",
    "# path = \"C:/Users/galeaj-admin/Downloads/QuestTrackingAccuracy-main/QuestTrackingAccuracy-main/ptx_07_joe/\"\n",
    "# fileName = \"pilot_007_h1_Target_row_C2_Trial_16_.json\"\n",
    "\n",
    "# path = \"C:/Users/ActionLab/AppData/LocalLow/DefaultCompany/QuestHandTrackingTest/\" \n",
    "path = \"C:/Users/ActionLab/Desktop/QuestTrackingData/Poppy_1st_Sep_2021/\"\n",
    "fileName = \"1630493704_high_fast_yf38g_Target_row_A4_Trial_53_.json\"\n",
    "\n",
    "df = pd.read_json(path + fileName)"
   ]
  },
  {
   "cell_type": "code",
   "execution_count": 4,
   "metadata": {
    "scrolled": false
   },
   "outputs": [
    {
     "data": {
      "text/html": [
       "<div>\n",
       "<style scoped>\n",
       "    .dataframe tbody tr th:only-of-type {\n",
       "        vertical-align: middle;\n",
       "    }\n",
       "\n",
       "    .dataframe tbody tr th {\n",
       "        vertical-align: top;\n",
       "    }\n",
       "\n",
       "    .dataframe thead th {\n",
       "        text-align: right;\n",
       "    }\n",
       "</style>\n",
       "<table border=\"1\" class=\"dataframe\">\n",
       "  <thead>\n",
       "    <tr style=\"text-align: right;\">\n",
       "      <th></th>\n",
       "      <th>frameNum</th>\n",
       "      <th>gameObjectName</th>\n",
       "      <th>xPos</th>\n",
       "      <th>yPos</th>\n",
       "      <th>zPos</th>\n",
       "      <th>xRot</th>\n",
       "      <th>yRot</th>\n",
       "      <th>zRot</th>\n",
       "      <th>targetID</th>\n",
       "      <th>xTPos</th>\n",
       "      <th>yTPos</th>\n",
       "      <th>zTPos</th>\n",
       "      <th>time</th>\n",
       "    </tr>\n",
       "  </thead>\n",
       "  <tbody>\n",
       "    <tr>\n",
       "      <th>0</th>\n",
       "      <td>0</td>\n",
       "      <td>realFingerTip</td>\n",
       "      <td>-0.831814</td>\n",
       "      <td>0.589465</td>\n",
       "      <td>0.109089</td>\n",
       "      <td>0.000000</td>\n",
       "      <td>0.000000</td>\n",
       "      <td>0.000000</td>\n",
       "      <td>row_A4</td>\n",
       "      <td>-0.728013</td>\n",
       "      <td>0.588851</td>\n",
       "      <td>0.227023</td>\n",
       "      <td>2.636215</td>\n",
       "    </tr>\n",
       "    <tr>\n",
       "      <th>1</th>\n",
       "      <td>0</td>\n",
       "      <td>b_r_index_null</td>\n",
       "      <td>-0.826258</td>\n",
       "      <td>0.579983</td>\n",
       "      <td>0.122022</td>\n",
       "      <td>2.811156</td>\n",
       "      <td>214.701400</td>\n",
       "      <td>330.184631</td>\n",
       "      <td>row_A4</td>\n",
       "      <td>-0.728013</td>\n",
       "      <td>0.588851</td>\n",
       "      <td>0.227023</td>\n",
       "      <td>2.636215</td>\n",
       "    </tr>\n",
       "    <tr>\n",
       "      <th>2</th>\n",
       "      <td>0</td>\n",
       "      <td>r_index_fingernail_marker</td>\n",
       "      <td>-0.831424</td>\n",
       "      <td>0.583443</td>\n",
       "      <td>0.125769</td>\n",
       "      <td>2.811156</td>\n",
       "      <td>214.701400</td>\n",
       "      <td>330.184631</td>\n",
       "      <td>row_A4</td>\n",
       "      <td>-0.728013</td>\n",
       "      <td>0.588851</td>\n",
       "      <td>0.227023</td>\n",
       "      <td>2.636215</td>\n",
       "    </tr>\n",
       "    <tr>\n",
       "      <th>3</th>\n",
       "      <td>0</td>\n",
       "      <td>r_index_finger_tip_marker</td>\n",
       "      <td>-0.834074</td>\n",
       "      <td>0.575533</td>\n",
       "      <td>0.128060</td>\n",
       "      <td>2.811156</td>\n",
       "      <td>214.701400</td>\n",
       "      <td>330.184631</td>\n",
       "      <td>row_A4</td>\n",
       "      <td>-0.728013</td>\n",
       "      <td>0.588851</td>\n",
       "      <td>0.227023</td>\n",
       "      <td>2.636215</td>\n",
       "    </tr>\n",
       "    <tr>\n",
       "      <th>4</th>\n",
       "      <td>0</td>\n",
       "      <td>r_index_finger_pad_marker</td>\n",
       "      <td>-0.826294</td>\n",
       "      <td>0.573237</td>\n",
       "      <td>0.122551</td>\n",
       "      <td>2.811156</td>\n",
       "      <td>214.701400</td>\n",
       "      <td>330.184631</td>\n",
       "      <td>row_A4</td>\n",
       "      <td>-0.728013</td>\n",
       "      <td>0.588851</td>\n",
       "      <td>0.227023</td>\n",
       "      <td>2.636215</td>\n",
       "    </tr>\n",
       "    <tr>\n",
       "      <th>...</th>\n",
       "      <td>...</td>\n",
       "      <td>...</td>\n",
       "      <td>...</td>\n",
       "      <td>...</td>\n",
       "      <td>...</td>\n",
       "      <td>...</td>\n",
       "      <td>...</td>\n",
       "      <td>...</td>\n",
       "      <td>...</td>\n",
       "      <td>...</td>\n",
       "      <td>...</td>\n",
       "      <td>...</td>\n",
       "      <td>...</td>\n",
       "    </tr>\n",
       "    <tr>\n",
       "      <th>905</th>\n",
       "      <td>73</td>\n",
       "      <td>b_r_index3</td>\n",
       "      <td>-0.716312</td>\n",
       "      <td>0.581185</td>\n",
       "      <td>0.235174</td>\n",
       "      <td>4.657405</td>\n",
       "      <td>237.515381</td>\n",
       "      <td>335.129883</td>\n",
       "      <td>row_A4</td>\n",
       "      <td>-0.728013</td>\n",
       "      <td>0.588851</td>\n",
       "      <td>0.227023</td>\n",
       "      <td>1.017685</td>\n",
       "    </tr>\n",
       "    <tr>\n",
       "      <th>906</th>\n",
       "      <td>73</td>\n",
       "      <td>b_r_index2</td>\n",
       "      <td>-0.704622</td>\n",
       "      <td>0.592925</td>\n",
       "      <td>0.217392</td>\n",
       "      <td>4.941516</td>\n",
       "      <td>233.943200</td>\n",
       "      <td>330.998100</td>\n",
       "      <td>row_A4</td>\n",
       "      <td>-0.728013</td>\n",
       "      <td>0.588851</td>\n",
       "      <td>0.227023</td>\n",
       "      <td>1.017685</td>\n",
       "    </tr>\n",
       "    <tr>\n",
       "      <th>907</th>\n",
       "      <td>73</td>\n",
       "      <td>b_r_index1</td>\n",
       "      <td>-0.683157</td>\n",
       "      <td>0.602077</td>\n",
       "      <td>0.187492</td>\n",
       "      <td>7.586557</td>\n",
       "      <td>232.428070</td>\n",
       "      <td>345.911163</td>\n",
       "      <td>row_A4</td>\n",
       "      <td>-0.728013</td>\n",
       "      <td>0.588851</td>\n",
       "      <td>0.227023</td>\n",
       "      <td>1.017685</td>\n",
       "    </tr>\n",
       "    <tr>\n",
       "      <th>908</th>\n",
       "      <td>73</td>\n",
       "      <td>b_r_wrist</td>\n",
       "      <td>-0.635556</td>\n",
       "      <td>0.623168</td>\n",
       "      <td>0.103155</td>\n",
       "      <td>8.150069</td>\n",
       "      <td>252.943542</td>\n",
       "      <td>353.623077</td>\n",
       "      <td>row_A4</td>\n",
       "      <td>-0.728013</td>\n",
       "      <td>0.588851</td>\n",
       "      <td>0.227023</td>\n",
       "      <td>1.017685</td>\n",
       "    </tr>\n",
       "    <tr>\n",
       "      <th>909</th>\n",
       "      <td>73</td>\n",
       "      <td>CenterEyeAnchor</td>\n",
       "      <td>-0.804509</td>\n",
       "      <td>0.958525</td>\n",
       "      <td>-0.045053</td>\n",
       "      <td>12.970817</td>\n",
       "      <td>359.017639</td>\n",
       "      <td>1.586091</td>\n",
       "      <td>row_A4</td>\n",
       "      <td>-0.728013</td>\n",
       "      <td>0.588851</td>\n",
       "      <td>0.227023</td>\n",
       "      <td>1.017685</td>\n",
       "    </tr>\n",
       "  </tbody>\n",
       "</table>\n",
       "<p>910 rows × 13 columns</p>\n",
       "</div>"
      ],
      "text/plain": [
       "     frameNum             gameObjectName      xPos      yPos      zPos  \\\n",
       "0           0              realFingerTip -0.831814  0.589465  0.109089   \n",
       "1           0             b_r_index_null -0.826258  0.579983  0.122022   \n",
       "2           0  r_index_fingernail_marker -0.831424  0.583443  0.125769   \n",
       "3           0  r_index_finger_tip_marker -0.834074  0.575533  0.128060   \n",
       "4           0  r_index_finger_pad_marker -0.826294  0.573237  0.122551   \n",
       "..        ...                        ...       ...       ...       ...   \n",
       "905        73                 b_r_index3 -0.716312  0.581185  0.235174   \n",
       "906        73                 b_r_index2 -0.704622  0.592925  0.217392   \n",
       "907        73                 b_r_index1 -0.683157  0.602077  0.187492   \n",
       "908        73                  b_r_wrist -0.635556  0.623168  0.103155   \n",
       "909        73            CenterEyeAnchor -0.804509  0.958525 -0.045053   \n",
       "\n",
       "          xRot        yRot        zRot targetID     xTPos     yTPos     zTPos  \\\n",
       "0     0.000000    0.000000    0.000000   row_A4 -0.728013  0.588851  0.227023   \n",
       "1     2.811156  214.701400  330.184631   row_A4 -0.728013  0.588851  0.227023   \n",
       "2     2.811156  214.701400  330.184631   row_A4 -0.728013  0.588851  0.227023   \n",
       "3     2.811156  214.701400  330.184631   row_A4 -0.728013  0.588851  0.227023   \n",
       "4     2.811156  214.701400  330.184631   row_A4 -0.728013  0.588851  0.227023   \n",
       "..         ...         ...         ...      ...       ...       ...       ...   \n",
       "905   4.657405  237.515381  335.129883   row_A4 -0.728013  0.588851  0.227023   \n",
       "906   4.941516  233.943200  330.998100   row_A4 -0.728013  0.588851  0.227023   \n",
       "907   7.586557  232.428070  345.911163   row_A4 -0.728013  0.588851  0.227023   \n",
       "908   8.150069  252.943542  353.623077   row_A4 -0.728013  0.588851  0.227023   \n",
       "909  12.970817  359.017639    1.586091   row_A4 -0.728013  0.588851  0.227023   \n",
       "\n",
       "         time  \n",
       "0    2.636215  \n",
       "1    2.636215  \n",
       "2    2.636215  \n",
       "3    2.636215  \n",
       "4    2.636215  \n",
       "..        ...  \n",
       "905  1.017685  \n",
       "906  1.017685  \n",
       "907  1.017685  \n",
       "908  1.017685  \n",
       "909  1.017685  \n",
       "\n",
       "[910 rows x 13 columns]"
      ]
     },
     "execution_count": 4,
     "metadata": {},
     "output_type": "execute_result"
    }
   ],
   "source": [
    "df"
   ]
  },
  {
   "cell_type": "markdown",
   "metadata": {},
   "source": [
    "## Plot data\n",
    "#### This section plots the raw position data"
   ]
  },
  {
   "cell_type": "code",
   "execution_count": 176,
   "metadata": {
    "scrolled": false
   },
   "outputs": [
    {
     "data": {
      "text/plain": [
       "<matplotlib.legend.Legend at 0x1ca0be1cfd0>"
      ]
     },
     "execution_count": 176,
     "metadata": {},
     "output_type": "execute_result"
    },
    {
     "data": {
      "image/png": "[encoded data removed]",
      "text/plain": [
       "<Figure size 432x288 with 1 Axes>"
      ]
     },
     "metadata": {
      "needs_background": "light"
     },
     "output_type": "display_data"
    }
   ],
   "source": [
    "# xPos = df.xPos[df.gameObjectName[df.gameObjectName == 'b_r_index_null']]\n",
    "# zPos = df.zPos[df.gameObjectName[df.gameObjectName == 'b_r_index_null']]\n",
    "\n",
    "xPos = df.loc[df['gameObjectName'] == 'b_r_index_null', 'xPos']\n",
    "zPos = df.loc[df['gameObjectName'] == 'b_r_index_null', 'zPos']\n",
    "xPosM = df.loc[df['gameObjectName'] == 'realFingerTip', 'xPos']\n",
    "zPosM = df.loc[df['gameObjectName'] == 'realFingerTip', 'zPos']\n",
    "time = df.loc[df['gameObjectName'] == 'realFingerTip', 'time']\n",
    "\n",
    "plt.plot(xPos,'r')\n",
    "# plt.plot(zPos,'g')\n",
    "# plt.plot(xPosM,zPosM,'k')\n",
    "plt.plot(xPosM,'k')\n",
    "# plt.plot(df.time*0.1,'b')\n",
    "# plt.plot(df.frameNum*0.01,'k')\n",
    "#plt.legend(['Hand','Target'])\n",
    "plt.title('Raw X positions')\n",
    "plt.legend([\"Quest_X\",\"Marker_X\"])"
   ]
  },
  {
   "cell_type": "code",
   "execution_count": 177,
   "metadata": {},
   "outputs": [],
   "source": [
    "# t = np.diff(time)\n",
    "# # plt.plot(t[40:],'b')\n",
    "# plt.plot(time,'b')"
   ]
  },
  {
   "cell_type": "code",
   "execution_count": 178,
   "metadata": {},
   "outputs": [
    {
     "name": "stdout",
     "output_type": "stream",
     "text": [
      "Original number of values (94,)\n",
      "Unique quest (92,)\n",
      "Unique marker (90,)\n",
      "Time length:  (94,)\n"
     ]
    },
    {
     "data": {
      "image/png": "[encoded data removed]",
      "text/plain": [
       "<Figure size 432x288 with 1 Axes>"
      ]
     },
     "metadata": {
      "needs_background": "light"
     },
     "output_type": "display_data"
    },
    {
     "data": {
      "image/png": "[encoded data removed]",
      "text/plain": [
       "<Figure size 432x288 with 1 Axes>"
      ]
     },
     "metadata": {
      "needs_background": "light"
     },
     "output_type": "display_data"
    }
   ],
   "source": [
    "from scipy.signal import savgol_filter\n",
    "\n",
    "print(\"Original number of values\", np.shape(xPos))\n",
    "print(\"Unique quest\", np.shape(np.unique(xPos)))\n",
    "print(\"Unique marker\", np.shape(np.unique(xPosM)))\n",
    "\n",
    "sxPos = savgol_filter(xPos, 11, 2)\n",
    "sxPosM = savgol_filter(xPosM, 11, 2)\n",
    "                       \n",
    "plt.plot(np.gradient(sxPos),'r')\n",
    "plt.plot(np.gradient(sxPosM),'g')\n",
    "plt.plot(np.gradient(xPos),'c')\n",
    "plt.plot(np.gradient(xPosM),'m')\n",
    "\n",
    "plt.title(\"Smoothed and Raw Velocity\")\n",
    "plt.legend([\"Smoothed Quest_X\",\"Smoothed Marker_X\",\"Raw Quest_X\",\"Raw Marker_X\"])\n",
    "\n",
    "plt.figure()\n",
    "t = np.diff(time)\n",
    "# plt.plot(t[40:],'b')\n",
    "plt.plot(time,'b')\n",
    "print('Time length: ', np.shape(time))"
   ]
  },
  {
   "cell_type": "code",
   "execution_count": 101,
   "metadata": {},
   "outputs": [],
   "source": [
    "import math\n",
    "import sys\n",
    "\n",
    "import numpy as np\n",
    "import numpy.linalg\n",
    "import pylab as py\n",
    "\n",
    "def sg_filter(x, m, k=0):\n",
    "    \"\"\"\n",
    "    x = Vector of sample times\n",
    "    m = Order of the smoothing polynomial\n",
    "    k = Which derivative\n",
    "    \"\"\"\n",
    "    mid = len(x) / 2        \n",
    "    a = x - x[mid]\n",
    "    expa = lambda x: map(lambda i: i**x, a)    \n",
    "    A = np.r_[map(expa, range(0,m+1))].transpose()\n",
    "    Ai = np.linalg.pinv(A)\n",
    "\n",
    "    return Ai[k]\n",
    "\n",
    "def smooth(x, y, size=5, order=2, deriv=0):\n",
    "    \n",
    "#     if deriv > order:\n",
    "#         raise Exception, \"deriv must be <= order\"\n",
    "\n",
    "    n = len(x)\n",
    "    m = size\n",
    "\n",
    "    result = np.zeros(n)\n",
    "\n",
    "    for i in xrange(m, n-m):\n",
    "        start, end = i - m, i + m + 1\n",
    "        f = sg_filter(x[start:end], order, deriv)\n",
    "        result[i] = np.dot(f, y[start:end])\n",
    "\n",
    "    if deriv > 1:\n",
    "        result *= math.factorial(deriv)\n",
    "\n",
    "    return result"
   ]
  },
  {
   "cell_type": "code",
   "execution_count": null,
   "metadata": {},
   "outputs": [],
   "source": []
  },
  {
   "cell_type": "code",
   "execution_count": null,
   "metadata": {},
   "outputs": [],
   "source": []
  }
 ],
 "metadata": {
  "kernelspec": {
   "display_name": "Python 3",
   "language": "python",
   "name": "python3"
  },
  "language_info": {
   "codemirror_mode": {
    "name": "ipython",
    "version": 3
   },
   "file_extension": ".py",
   "mimetype": "text/x-python",
   "name": "python",
   "nbconvert_exporter": "python",
   "pygments_lexer": "ipython3",
   "version": "3.8.8"
  }
 },
 "nbformat": 4,
 "nbformat_minor": 2
}

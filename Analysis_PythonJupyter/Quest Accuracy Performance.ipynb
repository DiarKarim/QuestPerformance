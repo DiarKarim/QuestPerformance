{
 "cells": [
  {
   "cell_type": "markdown",
   "metadata": {},
   "source": [
    "## Load Libraries"
   ]
  },
  {
   "cell_type": "code",
   "execution_count": 9,
   "metadata": {},
   "outputs": [],
   "source": [
    "import numpy as np\n",
    "import matplotlib.pyplot as plt\n",
    "import pandas as pd\n",
    "import os\n",
    "import time as tm"
   ]
  },
  {
   "cell_type": "markdown",
   "metadata": {},
   "source": [
    "## Load Data"
   ]
  },
  {
   "cell_type": "code",
   "execution_count": 22,
   "metadata": {},
   "outputs": [],
   "source": [
    "# path = \"C:/Users/galeaj-admin/AppData/LocalLow/DefaultCompany/QuestHandTrackingTest/ptx_07_joe/\"\n",
    "# path = \"C:/Users/galeaj-admin/Downloads/QuestTrackingAccuracy-main/QuestTrackingAccuracy-main/ptx_07_joe/\"\n",
    "# fileName = \"pilot_007_h1_Target_row_C2_Trial_16_.json\"\n",
    "\n",
    "# path = \"C:/Users/ActionLab/AppData/LocalLow/DefaultCompany/QuestHandTrackingTest/\" \n",
    "path = \"C:/Users/ActionLab/Desktop/QuestTrackingData/Davide_1st_Sep_2021/\"\n",
    "fileName = \"1630575682_dd_low_bpm_120_lf11q_Target_row_B2_Trial_22_.json\"\n",
    "\n",
    "df = pd.read_json(path + fileName)"
   ]
  },
  {
   "cell_type": "code",
   "execution_count": 23,
   "metadata": {
    "scrolled": false
   },
   "outputs": [
    {
     "data": {
      "text/html": [
       "<div>\n",
       "<style scoped>\n",
       "    .dataframe tbody tr th:only-of-type {\n",
       "        vertical-align: middle;\n",
       "    }\n",
       "\n",
       "    .dataframe tbody tr th {\n",
       "        vertical-align: top;\n",
       "    }\n",
       "\n",
       "    .dataframe thead th {\n",
       "        text-align: right;\n",
       "    }\n",
       "</style>\n",
       "<table border=\"1\" class=\"dataframe\">\n",
       "  <thead>\n",
       "    <tr style=\"text-align: right;\">\n",
       "      <th></th>\n",
       "      <th>frameNum</th>\n",
       "      <th>gameObjectName</th>\n",
       "      <th>xPos</th>\n",
       "      <th>yPos</th>\n",
       "      <th>zPos</th>\n",
       "      <th>xRot</th>\n",
       "      <th>yRot</th>\n",
       "      <th>zRot</th>\n",
       "      <th>targetID</th>\n",
       "      <th>xTPos</th>\n",
       "      <th>yTPos</th>\n",
       "      <th>zTPos</th>\n",
       "      <th>time</th>\n",
       "    </tr>\n",
       "  </thead>\n",
       "  <tbody>\n",
       "    <tr>\n",
       "      <th>0</th>\n",
       "      <td>0</td>\n",
       "      <td>realFingerTip</td>\n",
       "      <td>-0.824443</td>\n",
       "      <td>0.296406</td>\n",
       "      <td>0.116277</td>\n",
       "      <td>0.000000</td>\n",
       "      <td>0.000000</td>\n",
       "      <td>0.000000</td>\n",
       "      <td>row_B2</td>\n",
       "      <td>-1.025039</td>\n",
       "      <td>0.295493</td>\n",
       "      <td>0.323283</td>\n",
       "      <td>2.881454</td>\n",
       "    </tr>\n",
       "    <tr>\n",
       "      <th>1</th>\n",
       "      <td>0</td>\n",
       "      <td>b_r_index_null</td>\n",
       "      <td>-0.816545</td>\n",
       "      <td>0.292927</td>\n",
       "      <td>0.120360</td>\n",
       "      <td>349.149017</td>\n",
       "      <td>259.560800</td>\n",
       "      <td>324.372528</td>\n",
       "      <td>row_B2</td>\n",
       "      <td>-1.025039</td>\n",
       "      <td>0.295493</td>\n",
       "      <td>0.323283</td>\n",
       "      <td>2.881454</td>\n",
       "    </tr>\n",
       "    <tr>\n",
       "      <th>2</th>\n",
       "      <td>0</td>\n",
       "      <td>r_index_fingernail_marker</td>\n",
       "      <td>-0.816945</td>\n",
       "      <td>0.295603</td>\n",
       "      <td>0.127096</td>\n",
       "      <td>349.149017</td>\n",
       "      <td>259.560800</td>\n",
       "      <td>324.372528</td>\n",
       "      <td>row_B2</td>\n",
       "      <td>-1.025039</td>\n",
       "      <td>0.295493</td>\n",
       "      <td>0.323283</td>\n",
       "      <td>2.881454</td>\n",
       "    </tr>\n",
       "    <tr>\n",
       "      <th>3</th>\n",
       "      <td>0</td>\n",
       "      <td>r_index_finger_tip_marker</td>\n",
       "      <td>-0.818964</td>\n",
       "      <td>0.287522</td>\n",
       "      <td>0.129431</td>\n",
       "      <td>349.149017</td>\n",
       "      <td>259.560800</td>\n",
       "      <td>324.372528</td>\n",
       "      <td>row_B2</td>\n",
       "      <td>-1.025039</td>\n",
       "      <td>0.295493</td>\n",
       "      <td>0.323283</td>\n",
       "      <td>2.881454</td>\n",
       "    </tr>\n",
       "    <tr>\n",
       "      <th>4</th>\n",
       "      <td>0</td>\n",
       "      <td>r_index_finger_pad_marker</td>\n",
       "      <td>-0.817651</td>\n",
       "      <td>0.286275</td>\n",
       "      <td>0.119795</td>\n",
       "      <td>349.149017</td>\n",
       "      <td>259.560800</td>\n",
       "      <td>324.372528</td>\n",
       "      <td>row_B2</td>\n",
       "      <td>-1.025039</td>\n",
       "      <td>0.295493</td>\n",
       "      <td>0.323283</td>\n",
       "      <td>2.881454</td>\n",
       "    </tr>\n",
       "    <tr>\n",
       "      <th>...</th>\n",
       "      <td>...</td>\n",
       "      <td>...</td>\n",
       "      <td>...</td>\n",
       "      <td>...</td>\n",
       "      <td>...</td>\n",
       "      <td>...</td>\n",
       "      <td>...</td>\n",
       "      <td>...</td>\n",
       "      <td>...</td>\n",
       "      <td>...</td>\n",
       "      <td>...</td>\n",
       "      <td>...</td>\n",
       "      <td>...</td>\n",
       "    </tr>\n",
       "    <tr>\n",
       "      <th>1525</th>\n",
       "      <td>86</td>\n",
       "      <td>b_r_index3</td>\n",
       "      <td>-1.016463</td>\n",
       "      <td>0.290670</td>\n",
       "      <td>0.314378</td>\n",
       "      <td>353.250916</td>\n",
       "      <td>252.980000</td>\n",
       "      <td>343.142800</td>\n",
       "      <td>row_B2</td>\n",
       "      <td>-1.025039</td>\n",
       "      <td>0.295493</td>\n",
       "      <td>0.323283</td>\n",
       "      <td>1.183365</td>\n",
       "    </tr>\n",
       "    <tr>\n",
       "      <th>1526</th>\n",
       "      <td>86</td>\n",
       "      <td>b_r_index2</td>\n",
       "      <td>-1.007673</td>\n",
       "      <td>0.300611</td>\n",
       "      <td>0.294016</td>\n",
       "      <td>353.885162</td>\n",
       "      <td>249.402725</td>\n",
       "      <td>335.709717</td>\n",
       "      <td>row_B2</td>\n",
       "      <td>-1.025039</td>\n",
       "      <td>0.295493</td>\n",
       "      <td>0.323283</td>\n",
       "      <td>1.183365</td>\n",
       "    </tr>\n",
       "    <tr>\n",
       "      <th>1527</th>\n",
       "      <td>86</td>\n",
       "      <td>b_r_index1</td>\n",
       "      <td>-0.993337</td>\n",
       "      <td>0.308152</td>\n",
       "      <td>0.259722</td>\n",
       "      <td>356.596741</td>\n",
       "      <td>248.004578</td>\n",
       "      <td>348.510300</td>\n",
       "      <td>row_B2</td>\n",
       "      <td>-1.025039</td>\n",
       "      <td>0.295493</td>\n",
       "      <td>0.323283</td>\n",
       "      <td>1.183365</td>\n",
       "    </tr>\n",
       "    <tr>\n",
       "      <th>1528</th>\n",
       "      <td>86</td>\n",
       "      <td>b_r_wrist</td>\n",
       "      <td>-0.934997</td>\n",
       "      <td>0.319503</td>\n",
       "      <td>0.180406</td>\n",
       "      <td>353.059100</td>\n",
       "      <td>248.436523</td>\n",
       "      <td>355.815643</td>\n",
       "      <td>row_B2</td>\n",
       "      <td>-1.025039</td>\n",
       "      <td>0.295493</td>\n",
       "      <td>0.323283</td>\n",
       "      <td>1.183365</td>\n",
       "    </tr>\n",
       "    <tr>\n",
       "      <th>1529</th>\n",
       "      <td>86</td>\n",
       "      <td>CenterEyeAnchor</td>\n",
       "      <td>-0.813461</td>\n",
       "      <td>0.959026</td>\n",
       "      <td>-0.065978</td>\n",
       "      <td>13.375141</td>\n",
       "      <td>356.833679</td>\n",
       "      <td>1.811030</td>\n",
       "      <td>row_B2</td>\n",
       "      <td>-1.025039</td>\n",
       "      <td>0.295493</td>\n",
       "      <td>0.323283</td>\n",
       "      <td>1.183365</td>\n",
       "    </tr>\n",
       "  </tbody>\n",
       "</table>\n",
       "<p>1530 rows × 13 columns</p>\n",
       "</div>"
      ],
      "text/plain": [
       "      frameNum             gameObjectName      xPos      yPos      zPos  \\\n",
       "0            0              realFingerTip -0.824443  0.296406  0.116277   \n",
       "1            0             b_r_index_null -0.816545  0.292927  0.120360   \n",
       "2            0  r_index_fingernail_marker -0.816945  0.295603  0.127096   \n",
       "3            0  r_index_finger_tip_marker -0.818964  0.287522  0.129431   \n",
       "4            0  r_index_finger_pad_marker -0.817651  0.286275  0.119795   \n",
       "...        ...                        ...       ...       ...       ...   \n",
       "1525        86                 b_r_index3 -1.016463  0.290670  0.314378   \n",
       "1526        86                 b_r_index2 -1.007673  0.300611  0.294016   \n",
       "1527        86                 b_r_index1 -0.993337  0.308152  0.259722   \n",
       "1528        86                  b_r_wrist -0.934997  0.319503  0.180406   \n",
       "1529        86            CenterEyeAnchor -0.813461  0.959026 -0.065978   \n",
       "\n",
       "            xRot        yRot        zRot targetID     xTPos     yTPos  \\\n",
       "0       0.000000    0.000000    0.000000   row_B2 -1.025039  0.295493   \n",
       "1     349.149017  259.560800  324.372528   row_B2 -1.025039  0.295493   \n",
       "2     349.149017  259.560800  324.372528   row_B2 -1.025039  0.295493   \n",
       "3     349.149017  259.560800  324.372528   row_B2 -1.025039  0.295493   \n",
       "4     349.149017  259.560800  324.372528   row_B2 -1.025039  0.295493   \n",
       "...          ...         ...         ...      ...       ...       ...   \n",
       "1525  353.250916  252.980000  343.142800   row_B2 -1.025039  0.295493   \n",
       "1526  353.885162  249.402725  335.709717   row_B2 -1.025039  0.295493   \n",
       "1527  356.596741  248.004578  348.510300   row_B2 -1.025039  0.295493   \n",
       "1528  353.059100  248.436523  355.815643   row_B2 -1.025039  0.295493   \n",
       "1529   13.375141  356.833679    1.811030   row_B2 -1.025039  0.295493   \n",
       "\n",
       "         zTPos      time  \n",
       "0     0.323283  2.881454  \n",
       "1     0.323283  2.881454  \n",
       "2     0.323283  2.881454  \n",
       "3     0.323283  2.881454  \n",
       "4     0.323283  2.881454  \n",
       "...        ...       ...  \n",
       "1525  0.323283  1.183365  \n",
       "1526  0.323283  1.183365  \n",
       "1527  0.323283  1.183365  \n",
       "1528  0.323283  1.183365  \n",
       "1529  0.323283  1.183365  \n",
       "\n",
       "[1530 rows x 13 columns]"
      ]
     },
     "execution_count": 23,
     "metadata": {},
     "output_type": "execute_result"
    }
   ],
   "source": [
    "df"
   ]
  },
  {
   "cell_type": "markdown",
   "metadata": {},
   "source": [
    "## Plot data\n",
    "#### This section plots the raw position data"
   ]
  },
  {
   "cell_type": "code",
   "execution_count": 24,
   "metadata": {
    "scrolled": false
   },
   "outputs": [
    {
     "data": {
      "text/plain": [
       "<matplotlib.legend.Legend at 0x2b3da229e80>"
      ]
     },
     "execution_count": 24,
     "metadata": {},
     "output_type": "execute_result"
    },
    {
     "data": {
      "image/png": "[encoded data removed]",
      "text/plain": [
       "<Figure size 432x288 with 1 Axes>"
      ]
     },
     "metadata": {
      "needs_background": "light"
     },
     "output_type": "display_data"
    }
   ],
   "source": [
    "# xPos = df.xPos[df.gameObjectName[df.gameObjectName == 'b_r_index_null']]\n",
    "# zPos = df.zPos[df.gameObjectName[df.gameObjectName == 'b_r_index_null']]\n",
    "\n",
    "xPos = df.loc[df['gameObjectName'] == 'b_r_index_null', 'xPos']\n",
    "zPos = df.loc[df['gameObjectName'] == 'b_r_index_null', 'zPos']\n",
    "xPosM = df.loc[df['gameObjectName'] == 'realFingerTip', 'xPos']\n",
    "zPosM = df.loc[df['gameObjectName'] == 'realFingerTip', 'zPos']\n",
    "time = df.loc[df['gameObjectName'] == 'realFingerTip', 'time']\n",
    "\n",
    "plt.plot(xPos,'r')\n",
    "# plt.plot(zPos,'g')\n",
    "# plt.plot(xPosM,zPosM,'k')\n",
    "plt.plot(xPosM,'k')\n",
    "# plt.plot(df.time*0.1,'b')\n",
    "# plt.plot(df.frameNum*0.01,'k')\n",
    "#plt.legend(['Hand','Target'])\n",
    "plt.title('Raw X positions')\n",
    "plt.legend([\"Quest_X\",\"Marker_X\"])"
   ]
  },
  {
   "cell_type": "code",
   "execution_count": 25,
   "metadata": {},
   "outputs": [],
   "source": [
    "# t = np.diff(time)\n",
    "# # plt.plot(t[40:],'b')\n",
    "# plt.plot(time,'b')"
   ]
  },
  {
   "cell_type": "code",
   "execution_count": 26,
   "metadata": {},
   "outputs": [
    {
     "name": "stdout",
     "output_type": "stream",
     "text": [
      "Original number of values (153,)\n",
      "Unique quest (153,)\n",
      "Unique marker (153,)\n",
      "Time length:  (153,)\n"
     ]
    },
    {
     "data": {
      "image/png": "[encoded data removed]",
      "text/plain": [
       "<Figure size 432x288 with 1 Axes>"
      ]
     },
     "metadata": {
      "needs_background": "light"
     },
     "output_type": "display_data"
    },
    {
     "data": {
      "image/png": "[encoded data removed]",
      "text/plain": [
       "<Figure size 432x288 with 1 Axes>"
      ]
     },
     "metadata": {
      "needs_background": "light"
     },
     "output_type": "display_data"
    }
   ],
   "source": [
    "from scipy.signal import savgol_filter\n",
    "\n",
    "print(\"Original number of values\", np.shape(xPos))\n",
    "print(\"Unique quest\", np.shape(np.unique(xPos)))\n",
    "print(\"Unique marker\", np.shape(np.unique(xPosM)))\n",
    "\n",
    "sxPos = savgol_filter(xPos, 11, 2)\n",
    "sxPosM = savgol_filter(xPosM, 11, 2)\n",
    "                       \n",
    "plt.plot(np.gradient(sxPos),'r')\n",
    "plt.plot(np.gradient(sxPosM),'g')\n",
    "plt.plot(np.gradient(xPos),'c')\n",
    "plt.plot(np.gradient(xPosM),'m')\n",
    "\n",
    "plt.title(\"Smoothed and Raw Velocity\")\n",
    "plt.legend([\"Smoothed Quest_X\",\"Smoothed Marker_X\",\"Raw Quest_X\",\"Raw Marker_X\"])\n",
    "\n",
    "plt.figure()\n",
    "t = np.diff(time)\n",
    "# plt.plot(t[40:],'b')\n",
    "plt.plot(time,'b')\n",
    "print('Time length: ', np.shape(time))"
   ]
  },
  {
   "cell_type": "code",
   "execution_count": 101,
   "metadata": {},
   "outputs": [],
   "source": [
    "import math\n",
    "import sys\n",
    "\n",
    "import numpy as np\n",
    "import numpy.linalg\n",
    "import pylab as py\n",
    "\n",
    "def sg_filter(x, m, k=0):\n",
    "    \"\"\"\n",
    "    x = Vector of sample times\n",
    "    m = Order of the smoothing polynomial\n",
    "    k = Which derivative\n",
    "    \"\"\"\n",
    "    mid = len(x) / 2        \n",
    "    a = x - x[mid]\n",
    "    expa = lambda x: map(lambda i: i**x, a)    \n",
    "    A = np.r_[map(expa, range(0,m+1))].transpose()\n",
    "    Ai = np.linalg.pinv(A)\n",
    "\n",
    "    return Ai[k]\n",
    "\n",
    "def smooth(x, y, size=5, order=2, deriv=0):\n",
    "    \n",
    "#     if deriv > order:\n",
    "#         raise Exception, \"deriv must be <= order\"\n",
    "\n",
    "    n = len(x)\n",
    "    m = size\n",
    "\n",
    "    result = np.zeros(n)\n",
    "\n",
    "    for i in xrange(m, n-m):\n",
    "        start, end = i - m, i + m + 1\n",
    "        f = sg_filter(x[start:end], order, deriv)\n",
    "        result[i] = np.dot(f, y[start:end])\n",
    "\n",
    "    if deriv > 1:\n",
    "        result *= math.factorial(deriv)\n",
    "\n",
    "    return result"
   ]
  },
  {
   "cell_type": "code",
   "execution_count": null,
   "metadata": {},
   "outputs": [],
   "source": []
  },
  {
   "cell_type": "code",
   "execution_count": null,
   "metadata": {},
   "outputs": [],
   "source": []
  }
 ],
 "metadata": {
  "kernelspec": {
   "display_name": "Python 3",
   "language": "python",
   "name": "python3"
  },
  "language_info": {
   "codemirror_mode": {
    "name": "ipython",
    "version": 3
   },
   "file_extension": ".py",
   "mimetype": "text/x-python",
   "name": "python",
   "nbconvert_exporter": "python",
   "pygments_lexer": "ipython3",
   "version": "3.8.8"
  }
 },
 "nbformat": 4,
 "nbformat_minor": 2
}
